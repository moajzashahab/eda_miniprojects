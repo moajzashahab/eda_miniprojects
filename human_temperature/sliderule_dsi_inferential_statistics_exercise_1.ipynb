{
 "cells": [
  {
   "cell_type": "markdown",
   "metadata": {},
   "source": [
    "# What is the True Normal Human Body Temperature? \n",
    "\n",
    "#### Background\n",
    "\n",
    "The mean normal body temperature was held to be 37$^{\\circ}$C or 98.6$^{\\circ}$F for more than 120 years since it was first conceptualized and reported by Carl Wunderlich in a famous 1868 book. But, is this value statistically correct?"
   ]
  },
  {
   "cell_type": "markdown",
   "metadata": {},
   "source": [
    "<h3>Exercises</h3>\n",
    "\n",
    "<p>In this exercise, you will analyze a dataset of human body temperatures and employ the concepts of hypothesis testing, confidence intervals, and statistical significance.</p>\n",
    "\n",
    "<p>Answer the following questions <b>in this notebook below and submit to your Github account</b>.</p> \n",
    "\n",
    "<ol>\n",
    "<li>  Is the distribution of body temperatures normal? \n",
    "    <ul>\n",
    "    <li> Although this is not a requirement for CLT to hold (read CLT carefully), it gives us some peace of mind that the population may also be normally distributed if we assume that this sample is representative of the population.\n",
    "    </ul>\n",
    "<li>  Is the sample size large? Are the observations independent?\n",
    "    <ul>\n",
    "    <li> Remember that this is a condition for the CLT, and hence the statistical tests we are using, to apply.\n",
    "    </ul>\n",
    "<li>  Is the true population mean really 98.6 degrees F?\n",
    "    <ul>\n",
    "    <li> Would you use a one-sample or two-sample test? Why?\n",
    "    <li> In this situation, is it appropriate to use the $t$ or $z$ statistic? \n",
    "    <li> Now try using the other test. How is the result be different? Why?\n",
    "    </ul>\n",
    "<li>  Draw a small sample of size 10 from the data and repeat both tests. \n",
    "    <ul>\n",
    "    <li> Which one is the correct one to use? \n",
    "    <li> What do you notice? What does this tell you about the difference in application of the $t$ and $z$ statistic?\n",
    "    </ul>\n",
    "<li>  At what temperature should we consider someone's temperature to be \"abnormal\"?\n",
    "    <ul>\n",
    "    <li> Start by computing the margin of error and confidence interval.\n",
    "    </ul>\n",
    "<li>  Is there a significant difference between males and females in normal temperature?\n",
    "    <ul>\n",
    "    <li> What test did you use and why?\n",
    "    <li> Write a story with your conclusion in the context of the original problem.\n",
    "    </ul>\n",
    "</ol>\n",
    "\n",
    "You can include written notes in notebook cells using Markdown: \n",
    "   - In the control panel at the top, choose Cell > Cell Type > Markdown\n",
    "   - Markdown syntax: http://nestacms.com/docs/creating-content/markdown-cheat-sheet\n",
    "\n",
    "#### Resources\n",
    "\n",
    "+ Information and data sources: http://www.amstat.org/publications/jse/datasets/normtemp.txt, http://www.amstat.org/publications/jse/jse_data_archive.htm\n",
    "+ Markdown syntax: http://nestacms.com/docs/creating-content/markdown-cheat-sheet\n",
    "\n",
    "****"
   ]
  },
  {
   "cell_type": "code",
   "execution_count": 103,
   "metadata": {
    "collapsed": true
   },
   "outputs": [],
   "source": [
    "import numpy as np\n",
    "import pandas as pd\n",
    "import scipy \n",
    "import matplotlib.pyplot as plt\n",
    "import seaborn as sns\n",
    "\n",
    "df = pd.read_csv('data/human_body_temperature.csv')"
   ]
  },
  {
   "cell_type": "code",
   "execution_count": 104,
   "metadata": {
    "collapsed": false,
    "scrolled": true
   },
   "outputs": [
    {
     "data": {
      "image/png": "[encoded data removed]",
      "text/plain": [
       "<matplotlib.figure.Figure at 0x14c4b164470>"
      ]
     },
     "metadata": {},
     "output_type": "display_data"
    },
    {
     "name": "stdout",
     "output_type": "stream",
     "text": [
      "-0.004367976879081625 98.3 98.24923076923078 0    98.0\n",
      "dtype: float64\n"
     ]
    }
   ],
   "source": [
    "x = df['temperature']\n",
    "plt.hist(x, color = 'red')\n",
    "plt.show()\n",
    "print(scipy.stats.skew(x), x.median(), x.mean(), x.mode())"
   ]
  },
  {
   "cell_type": "markdown",
   "metadata": {},
   "source": [
    "1.The distribution of body temperatures falls within the exceptable range of skew values for the data to still be considered a normal univariate distribution. I double checked by calculating mode, median and mean which were 98, 98.3, and 98.25 respectively meaning that even though in the histogram it looks like the distribution may be skewed to the right the distribution is actually normal. "
   ]
  },
  {
   "cell_type": "markdown",
   "metadata": {},
   "source": [
    "2.The sample size is 129 and is made up of independent observations, measuring one person's body temperature shouldn't change the readings taken of other people's body temperature. The sample size is larger than 30, which is the minimum number given for a sample to be representative of a population if the data closely resembles a normal curve, which this data does. For a more detailed answer about the ability of this sample size to be used to generalize to the over all population we would need to decide margin of errors and confidence intervals. "
   ]
  },
  {
   "cell_type": "code",
   "execution_count": 105,
   "metadata": {
    "collapsed": false
   },
   "outputs": [
    {
     "name": "stdout",
     "output_type": "stream",
     "text": [
      "98.24923076923078\n",
      "Ttest_1sampResult(statistic=-5.4548232923645195, pvalue=2.4106320415561276e-07)\n",
      "[ 1.43870478  0.20643202 -0.61508316  1.30178559 -0.34124477  1.30178559\n",
      " -0.34124477  0.7541088   0.20643202  0.48027041  0.7541088  -2.12119432\n",
      " -0.06740637  0.61718961 -0.61508316  0.7541088   0.06951282 -0.06740637\n",
      " -1.43659834  1.57562398  0.06951282 -0.06740637  0.48027041  0.20643202\n",
      " -0.61508316 -0.34124477 -0.61508316 -0.06740637  0.20643202 -0.20432557\n",
      "  0.06951282 -0.88892155  0.34335121  0.48027041  1.43870478  1.71254318\n",
      "  1.16486639  0.06951282 -0.47816396 -2.5319519   0.20643202  0.20643202\n",
      " -1.84735592 -1.43659834  1.0279472  -0.47816396 -1.16275994 -1.16275994\n",
      " -0.47816396 -1.57351753  0.891028    0.06951282  0.34335121  0.48027041\n",
      " -0.06740637  0.48027041  0.7541088  -0.06740637 -0.06740637 -0.88892155\n",
      "  1.16486639  0.20643202 -0.06740637  0.48027041  0.61718961 -1.16275994\n",
      " -1.16275994  0.48027041  0.61718961  0.891028   -0.20432557 -0.75200235\n",
      " -0.34124477  0.7541088   1.0279472   0.7541088  -0.34124477  0.20643202\n",
      " -1.16275994 -0.88892155  0.7541088  -0.34124477 -1.02584075  1.30178559\n",
      "  0.48027041 -1.57351753  0.48027041 -0.34124477  0.61718961 -0.20432557\n",
      " -0.61508316  2.39713916  0.7541088  -1.57351753 -0.61508316 -1.98427512\n",
      "  2.26021996  0.61718961  0.7541088  -0.34124477  1.0279472   0.34335121\n",
      " -0.34124477  1.57562398 -0.88892155 -2.12119432 -1.71043673  0.48027041\n",
      "  0.61718961 -1.29967914  0.7541088  -0.34124477 -0.06740637  1.16486639\n",
      "  1.0279472  -0.34124477  3.49249273 -0.61508316  0.61718961  0.20643202\n",
      " -0.75200235 -0.47816396  1.0279472  -1.43659834 -1.02584075 -2.6688711\n",
      " -0.75200235 -0.06740637 -0.47816396  0.61718961]\n"
     ]
    }
   ],
   "source": [
    "print(x.mean())\n",
    "print(scipy.stats.ttest_1samp(x, 98.6))\n",
    "print(scipy.stats.zscore(x))"
   ]
  },
  {
   "cell_type": "markdown",
   "metadata": {},
   "source": [
    "3.The true of this data set is not 98.6, when calculated the mean for this data set is actually about 98.25. I would use a one-sample t test for this data set unless I was also going to look at gender and the correlationship between gender and body temperature, in which case it would be more appropriate to use a two-sample t test. In this situation it would be more appropriate to use the t score rather than the z score because we do not know the standard deviation of the general population.The t test seems to suggest that the mean of the data set is not 98.6, and the p-value is verry small which means we can most like reject 98.6 as being the true mean of the population. When you look at the z scores you can see the individual variation from the mean of the data set. Most of the numbers in the data set seem to be smaller than the true mean of 98.6 which is what one would expect if the mean of this data set is coming out to be 98.25 rather than 98.6. "
   ]
  },
  {
   "cell_type": "code",
   "execution_count": 106,
   "metadata": {
    "collapsed": false
   },
   "outputs": [
    {
     "name": "stdout",
     "output_type": "stream",
     "text": [
      "Ttest_1sampResult(statistic=-1.6888199063417857, pvalue=0.12552097021324457)\n",
      "[ 1.68881991  0.18764666  1.12587994  0.18764666 -0.93823328 -2.06411322\n",
      "  0.56293997 -0.18764666  0.         -0.56293997]\n"
     ]
    }
   ],
   "source": [
    "y = x.sample(n=10)\n",
    "print(scipy.stats.ttest_1samp(y, 98.6))\n",
    "print(scipy.stats.zscore(y))"
   ]
  },
  {
   "cell_type": "markdown",
   "metadata": {},
   "source": [
    "4.After drawing a sample from the data set and rerunning the tests we get a much smaller tscore and larger p value. The p value is still relatively small though and the results of the t test suggest that the true population mean could be 98.6. The z scores of the sample are relatively the same as in the data set as a whole, but the values which were further away from the true mean of 98.6 were not sampled here which may also explain why the t score here makes it harder to reject the hypothesis that the true mean of the population is 98.6. The z score is probably a better indication of the variation from the hypothesis in the data set itself while the t score is just an indication of the data set overall. Using the z score may be helpful if there are outliers in the data set or random error to see which data points may be causing us to get a higher t score. "
   ]
  },
  {
   "cell_type": "code",
   "execution_count": 107,
   "metadata": {
    "collapsed": false
   },
   "outputs": [
    {
     "name": "stdout",
     "output_type": "stream",
     "text": [
      "(98.249230769230749, 98.122002905608014, 98.376458632853485, 0.1272278636227305)\n",
      "0.126036657002\n",
      "97.51681684196106 98.98318315803894\n"
     ]
    }
   ],
   "source": [
    "# taken from https://stackoverflow.com/questions/15033511/compute-a-confidence-interval-from-sample-data\n",
    "\n",
    "def mean_confidence_interval(data, confidence=0.95):\n",
    "    a = 1.0*np.array(data)\n",
    "    n = len(a)\n",
    "    m, se = np.mean(a), scipy.stats.sem(a)\n",
    "    h = se * scipy.stats.t._ppf((1+confidence)/2., n-1)\n",
    "    return m, m-h, m+h, h\n",
    "\n",
    "print(mean_confidence_interval(x, confidence=0.95))\n",
    "print(scipy.stats.tsem(x) * 1.96)\n",
    "print(98.25 - x.std(), 98.25 + x.std())"
   ]
  },
  {
   "cell_type": "markdown",
   "metadata": {},
   "source": [
    "5.Someone's temperature should be considered abnormal when it is more than two standard deviations from the mean which would be anything below 97.5 and above 99.0. Using the confidence interval though we should consider a temperature abover 98.38 or below 98.12 abnormal. "
   ]
  },
  {
   "cell_type": "code",
   "execution_count": 108,
   "metadata": {
    "collapsed": false
   },
   "outputs": [
    {
     "name": "stdout",
     "output_type": "stream",
     "text": [
      "temperature    98.393846\n",
      "dtype: float64\n",
      "temperature    98.104615\n",
      "dtype: float64\n",
      "Ttest_indResult(statistic=2.2854345381656103, pvalue=0.023931883122395609)\n"
     ]
    }
   ],
   "source": [
    "g = df[['gender', 'temperature']]\n",
    "fem = g[g.gender == 'F']\n",
    "men = g[g.gender == 'M']\n",
    "\n",
    "print(fem.mean())\n",
    "print(men.mean())\n",
    "print(scipy.stats.ttest_ind(fem['temperature'], men['temperature']))"
   ]
  },
  {
   "cell_type": "markdown",
   "metadata": {},
   "source": [
    "6.I used an unpaired t test to analyze the difference in the mean body temperature by gender and the p value indicates that there is a significant difference in the means which indicates that gender does relate to body temperature. "
   ]
  },
  {
   "cell_type": "markdown",
   "metadata": {},
   "source": [
    "Carl Wunderlich's 1868 book reported that human beings have an average body temperature of 98.6 degrees fahrenheit. We wanted to compare this to our dataset which was a collection of 129 people's body temperature and gender. Our data set had an average body temperature of 98.25 with the average temperature for females being 98.4 and the average temperature for males being 98.1. Our average is significantly different than the true population mean of 98.6, which means that we either did something while collecting the data that lead us to have a lower average or that the true mean should be reevaluted. There might be outliers in our dataset because random sampling of it gives us a smaller t score and larger p value which means that there might not be as much of significant difference between the true population mean and our data set. We also compared the body temperatures for females versus males and found a statistically significant difference between them, indicating that gender does correlate to temperature. "
   ]
  }
 ],
 "metadata": {
  "kernelspec": {
   "display_name": "Python 3",
   "language": "python",
   "name": "python3"
  },
  "language_info": {
   "codemirror_mode": {
    "name": "ipython",
    "version": 3
   },
   "file_extension": ".py",
   "mimetype": "text/x-python",
   "name": "python",
   "nbconvert_exporter": "python",
   "pygments_lexer": "ipython3",
   "version": "3.6.0"
  }
 },
 "nbformat": 4,
 "nbformat_minor": 1
}
